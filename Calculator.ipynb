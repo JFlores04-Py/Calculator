{
 "cells": [
  {
   "cell_type": "markdown",
   "id": "e7dc9f03-0faf-4536-bcec-6f72236a76cc",
   "metadata": {},
   "source": [
    "calculator.py\n",
    "Author: Jorge Flores\n",
    "Description: Simple calculator that supports +, -, *, /"
   ]
  },
  {
   "cell_type": "code",
   "execution_count": null,
   "id": "4627dae7-d18f-47f8-a9b9-ba78fc2b0626",
   "metadata": {},
   "outputs": [],
   "source": [
    "def add(x,y): # addition function\n",
    "    return (x+y)\n",
    "def sub(x,y): # subtraction function\n",
    "    return (x-y)\n",
    "def multiply(x,y): # multiplication function\n",
    "    return (x*y)\n",
    "def divide(x,y): # division function\n",
    "    if (y == 0):\n",
    "        print (\"Error: denominator cannot be zero\") # invalid input response \n",
    "    else: \n",
    "        return (x/y)\n"
   ]
  },
  {
   "cell_type": "code",
   "execution_count": null,
   "id": "48175d80-7926-4ecc-b249-d9a99e6f46ac",
   "metadata": {},
   "outputs": [],
   "source": [
    "def calculate():\n",
    "    #print statements explaining the calculator\n",
    "    print(\"Basic Calculator\")\n",
    "    print(\"Choose the operation: +,-,*,/\")\n",
    "    print(\"Then choose your x and y values\") \n",
    "    #input statements for user's choices:\n",
    "    choice = input(\"Enter Operation: \")\n",
    "    num1 = float(input(\"Enter first number: \"))\n",
    "    num2 = float(input(\"Enter second number: \"))\n",
    "    #if and elif statements for desired operation\n",
    "    if choice == \"+\":\n",
    "        return (add(num1,num2))\n",
    "    elif choice == \"-\":\n",
    "        return (sub(num1,num2))\n",
    "    elif choice == \"*\":\n",
    "        return (multiply(num1,num2))\n",
    "    elif choice == \"/\":\n",
    "        return (divide(num1,num2))\n",
    "    #invalid input operation:\n",
    "    else:\n",
    "        print(\"invalid operation\")"
   ]
  },
  {
   "cell_type": "code",
   "execution_count": null,
   "id": "79ad00c4-edd0-4cb5-b639-4b537d42d6c4",
   "metadata": {},
   "outputs": [],
   "source": [
    "calculate()"
   ]
  },
  {
   "cell_type": "code",
   "execution_count": null,
   "id": "95040877-cbc3-4fd7-bb61-98f6646c5c46",
   "metadata": {},
   "outputs": [],
   "source": []
  }
 ],
 "metadata": {
  "kernelspec": {
   "display_name": "Python [conda env:base] *",
   "language": "python",
   "name": "conda-base-py"
  },
  "language_info": {
   "codemirror_mode": {
    "name": "ipython",
    "version": 3
   },
   "file_extension": ".py",
   "mimetype": "text/x-python",
   "name": "python",
   "nbconvert_exporter": "python",
   "pygments_lexer": "ipython3",
   "version": "3.13.5"
  }
 },
 "nbformat": 4,
 "nbformat_minor": 5
}
